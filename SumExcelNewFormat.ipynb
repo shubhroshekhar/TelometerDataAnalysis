{
  "nbformat": 4,
  "nbformat_minor": 0,
  "metadata": {
    "colab": {
      "name": "SumExcelNewFormat.ipynb",
      "provenance": [],
      "collapsed_sections": [],
      "authorship_tag": "ABX9TyMCGA8YsWeYhtBT9swuBG7W",
      "include_colab_link": true
    },
    "kernelspec": {
      "name": "python3",
      "display_name": "Python 3"
    }
  },
  "cells": [
    {
      "cell_type": "markdown",
      "metadata": {
        "id": "view-in-github",
        "colab_type": "text"
      },
      "source": [
        "<a href=\"https://colab.research.google.com/github/shubhroshekhar/TelometerDataAnalysis/blob/master/SumExcelNewFormat.ipynb\" target=\"_parent\"><img src=\"https://colab.research.google.com/assets/colab-badge.svg\" alt=\"Open In Colab\"/></a>"
      ]
    },
    {
      "cell_type": "code",
      "metadata": {
        "id": "ccSsPQibI1tb",
        "colab_type": "code",
        "colab": {
          "base_uri": "https://localhost:8080/",
          "height": 85
        },
        "outputId": "fe64fab2-b546-4e79-ebca-06a62eeb0690"
      },
      "source": [
        "file_name = 'newExcelFormat.xlsx' # CHANGE THIS FILENAME\n",
        "min_cell_area = 5 # SET MINIMUM AREA VALUE. SET 0 IF YOU WANT TO INCLUDE ALL\n",
        "\n",
        "\n",
        "import io\n",
        "import os\n",
        "import csv\n",
        "import math\n",
        "from google.colab import files\n",
        "import pandas as pd\n",
        "\n",
        "p = '/content/' + file_name\n",
        "\n",
        "if os.path.exists(p):\n",
        "  result = list()\n",
        "  # loop through every sheet <sheet_names>\n",
        "  for sheet in pd.ExcelFile(file_name).sheet_names:\n",
        "    excel_data = pd.read_excel(p,sheet)\n",
        "    ncounts = {}\n",
        "    df = pd.DataFrame(excel_data)\n",
        "    for i, j in df.iterrows():\n",
        "      cell_name = j.get('CellName')\n",
        "      cell_area = j.get('Area',0)\n",
        "      cell_mean = j.get('Mean',0)\n",
        "      count_obj = ncounts.get(cell_name,{ \n",
        "          'total': 0, \n",
        "          'name': sheet + '_'+cell_name, \n",
        "          'total_inc': 0, \n",
        "          'total_exc': 0, \n",
        "          'mean_inc_total': 0, \n",
        "          'mean_exc_total': 0 \n",
        "          })\n",
        "      count_obj['total'] = count_obj['total'] + 1\n",
        "      if (cell_area >= min_cell_area):\n",
        "        count_obj['total_inc'] = count_obj['total_inc'] + 1\n",
        "        count_obj['mean_inc_total'] = count_obj['mean_inc_total'] + cell_mean\n",
        "      else:\n",
        "        count_obj['total_exc'] = count_obj['total_exc'] + 1\n",
        "        count_obj['mean_exc_total'] = count_obj['mean_exc_total'] + cell_mean\n",
        "      ncounts[cell_name] = count_obj\n",
        "    result.extend(sorted(list(ncounts.values()), key = lambda i: i['name']))\n",
        "  # result Calculated and saving the result in csv file\n",
        "  result\n",
        "  try:\n",
        "    os.mkdir('results')\n",
        "  except:\n",
        "    print('folder already created')\n",
        "\n",
        "  final_file_name = file_name.replace('.xlsx','').replace('.','').replace(' ','_')\n",
        "  with open('results/final_' + final_file_name +'.csv','w', newline=\"\") as f:\n",
        "    file_writer = csv.writer(f)\n",
        "    file_writer.writerow(['name','mean_included','total_included','mean_excluded','total_exc_count','total_count',])\n",
        "    for r in result:\n",
        "      inc_avg = 0\n",
        "      try:\n",
        "        mean_inc_total = r.get('mean_inc_total',0)\n",
        "        total_inc = r.get('total_inc',0)\n",
        "        inc_avg = round(mean_inc_total / total_inc, 2)\n",
        "      except:\n",
        "        print('total_inc',r.get('total_inc'))\n",
        "      \n",
        "      exc_avg = 0\n",
        "      try:\n",
        "        mean_exc_total = r.get('mean_exc_total',0)\n",
        "        total_exc = r.get('total_exc',0)\n",
        "        exc_avg = round(mean_exc_total / total_exc, 2)\n",
        "      except:\n",
        "        print('total_exc',r.get('total_exc'))\n",
        "        \n",
        "      file_writer.writerow([r.get('name'),inc_avg,r.get('total_inc'),exc_avg,r.get('total_exc'),r.get('total')])\n",
        "  print('FINISHED.....')\n",
        "  print('Now check result folder')\n",
        "else:\n",
        "  print('INVALID FILE NAME')"
      ],
      "execution_count": null,
      "outputs": [
        {
          "output_type": "stream",
          "text": [
            "folder already created\n",
            "total_exc 0\n",
            "FINISHED.....\n",
            "Now check result folder\n"
          ],
          "name": "stdout"
        }
      ]
    }
  ]
}